{
 "cells": [
  {
   "cell_type": "code",
   "execution_count": 1,
   "metadata": {
    "executionInfo": {
     "elapsed": 471,
     "status": "ok",
     "timestamp": 1676016957535,
     "user": {
      "displayName": "Iveto Zhekova",
      "userId": "07438270920738996766"
     },
     "user_tz": -120
    },
    "id": "ZCaZ4O9rUYwF"
   },
   "outputs": [
    {
     "name": "stderr",
     "output_type": "stream",
     "text": [
      "/home/ivelina/anaconda3/envs/DL/lib/python3.9/site-packages/xgboost/compat.py:36: FutureWarning: pandas.Int64Index is deprecated and will be removed from pandas in a future version. Use pandas.Index with the appropriate dtype instead.\n",
      "  from pandas import MultiIndex, Int64Index\n"
     ]
    }
   ],
   "source": [
    "import pandas as pd\n",
    "import numpy as np\n",
    "import matplotlib.pyplot as plt\n",
    "\n",
    "from sklearn.preprocessing import MinMaxScaler, LabelEncoder\n",
    "from sklearn.model_selection import train_test_split\n",
    "from sklearn.metrics import classification_report\n",
    "import xgboost as xgb"
   ]
  },
  {
   "cell_type": "markdown",
   "metadata": {
    "id": "nljHbCcuUpkw"
   },
   "source": [
    "# Base XGBoost model"
   ]
  },
  {
   "cell_type": "markdown",
   "metadata": {
    "id": "izHdWKpjUf44"
   },
   "source": [
    "## 1. Data preprocessing"
   ]
  },
  {
   "cell_type": "markdown",
   "metadata": {
    "id": "GTOUjlriU_6z"
   },
   "source": [
    "### Read data"
   ]
  },
  {
   "cell_type": "code",
   "execution_count": 2,
   "metadata": {
    "executionInfo": {
     "elapsed": 872,
     "status": "ok",
     "timestamp": 1676016981844,
     "user": {
      "displayName": "Iveto Zhekova",
      "userId": "07438270920738996766"
     },
     "user_tz": -120
    },
    "id": "ZxSwrmG2U0tW"
   },
   "outputs": [],
   "source": [
    "data = pd.read_csv('data/train.csv')"
   ]
  },
  {
   "cell_type": "markdown",
   "metadata": {
    "id": "4yyuiP-WU8cJ"
   },
   "source": [
    "### Fill missing data"
   ]
  },
  {
   "cell_type": "code",
   "execution_count": 3,
   "metadata": {
    "executionInfo": {
     "elapsed": 30,
     "status": "ok",
     "timestamp": 1676016981846,
     "user": {
      "displayName": "Iveto Zhekova",
      "userId": "07438270920738996766"
     },
     "user_tz": -120
    },
    "id": "jsYY60UpU2Dc"
   },
   "outputs": [],
   "source": [
    "data['meaneduc'] = data['meaneduc'].fillna(data['meaneduc'].mean())"
   ]
  },
  {
   "cell_type": "code",
   "execution_count": 4,
   "metadata": {
    "executionInfo": {
     "elapsed": 25,
     "status": "ok",
     "timestamp": 1676016981846,
     "user": {
      "displayName": "Iveto Zhekova",
      "userId": "07438270920738996766"
     },
     "user_tz": -120
    },
    "id": "7sEBPq7QU6RH"
   },
   "outputs": [],
   "source": [
    "assert data['meaneduc'].isna().any() == False"
   ]
  },
  {
   "cell_type": "code",
   "execution_count": 5,
   "metadata": {
    "executionInfo": {
     "elapsed": 23,
     "status": "ok",
     "timestamp": 1676016981848,
     "user": {
      "displayName": "Iveto Zhekova",
      "userId": "07438270920738996766"
     },
     "user_tz": -120
    },
    "id": "GGU-j9JlVDsa"
   },
   "outputs": [],
   "source": [
    "data = data.drop(['v2a1', 'v18q1', 'rez_esc'], axis = 1)"
   ]
  },
  {
   "cell_type": "markdown",
   "metadata": {
    "id": "Xt6h21t2VJO5"
   },
   "source": [
    "### Feature selection"
   ]
  },
  {
   "cell_type": "code",
   "execution_count": 6,
   "metadata": {
    "executionInfo": {
     "elapsed": 21,
     "status": "ok",
     "timestamp": 1676016981848,
     "user": {
      "displayName": "Iveto Zhekova",
      "userId": "07438270920738996766"
     },
     "user_tz": -120
    },
    "id": "7pi56I_mVFFM"
   },
   "outputs": [],
   "source": [
    "data['edjefe'] = data['edjefe'].replace({'no': 0, 'yes': 1}).astype(float)\n",
    "data['edjefa'] = data['edjefa'].replace({'no': 0, 'yes': 1}).astype(float)\n",
    "data['dependency'] = data['dependency'].replace({'no': 0, 'yes': 1}).astype(float)"
   ]
  },
  {
   "cell_type": "code",
   "execution_count": 7,
   "metadata": {
    "executionInfo": {
     "elapsed": 19,
     "status": "ok",
     "timestamp": 1676016981848,
     "user": {
      "displayName": "Iveto Zhekova",
      "userId": "07438270920738996766"
     },
     "user_tz": -120
    },
    "id": "QlV_BZTFVLao"
   },
   "outputs": [],
   "source": [
    "data = data.drop(['Id', 'idhogar', 'hacapo', 'hacdor', 'r4h1', 'r4h2', 'r4h3', 'r4m1', 'r4m2', 'r4m3', 'r4t1', 'r4t2', 'r4t3', 'tamhog', \n",
    "                  'hhsize', 'male', 'female', 'parentesco2', 'parentesco3', 'parentesco4', 'parentesco5', 'parentesco6', 'parentesco7',\n",
    "                  'parentesco8', 'parentesco9', 'parentesco10', 'parentesco11', 'parentesco12', 'hogar_nin', 'hogar_adul', 'hogar_mayor',\n",
    "                  'hogar_total', 'mobilephone', 'SQBescolari', 'SQBage', 'SQBhogar_total', 'SQBedjefe', 'SQBhogar_nin', 'SQBovercrowding',\n",
    "                  'SQBdependency', 'SQBmeaned', 'agesq'], axis = 1)"
   ]
  },
  {
   "cell_type": "markdown",
   "metadata": {},
   "source": [
    "### Label encoder"
   ]
  },
  {
   "cell_type": "code",
   "execution_count": 8,
   "metadata": {
    "executionInfo": {
     "elapsed": 20,
     "status": "ok",
     "timestamp": 1676016981849,
     "user": {
      "displayName": "Iveto Zhekova",
      "userId": "07438270920738996766"
     },
     "user_tz": -120
    },
    "id": "uUjG5V5MVPEL"
   },
   "outputs": [],
   "source": [
    "target = data['Target']\n",
    "attributes = data.drop(['Target'], axis = 1)"
   ]
  },
  {
   "cell_type": "code",
   "execution_count": 9,
   "metadata": {},
   "outputs": [],
   "source": [
    "label_encoder = LabelEncoder().fit(target.unique())"
   ]
  },
  {
   "cell_type": "code",
   "execution_count": 10,
   "metadata": {},
   "outputs": [],
   "source": [
    "target_encoded = label_encoder.transform(target)"
   ]
  },
  {
   "cell_type": "markdown",
   "metadata": {
    "id": "tGGj5B-SVQx8"
   },
   "source": [
    "### Train test split"
   ]
  },
  {
   "cell_type": "code",
   "execution_count": 11,
   "metadata": {
    "executionInfo": {
     "elapsed": 20,
     "status": "ok",
     "timestamp": 1676016981850,
     "user": {
      "displayName": "Iveto Zhekova",
      "userId": "07438270920738996766"
     },
     "user_tz": -120
    },
    "id": "CB7tILriVfe6"
   },
   "outputs": [],
   "source": [
    "train_attributes, test_attributes, train_target, test_target = train_test_split(attributes, target_encoded, train_size = 0.8, random_state=13, stratify = target_encoded)"
   ]
  },
  {
   "cell_type": "code",
   "execution_count": 12,
   "metadata": {
    "colab": {
     "base_uri": "https://localhost:8080/"
    },
    "executionInfo": {
     "elapsed": 20,
     "status": "ok",
     "timestamp": 1676016981851,
     "user": {
      "displayName": "Iveto Zhekova",
      "userId": "07438270920738996766"
     },
     "user_tz": -120
    },
    "id": "18a-oTQgVgte",
    "outputId": "d059b35c-4ef6-43e8-aa3d-4cf3415fc6c1"
   },
   "outputs": [
    {
     "data": {
      "text/plain": [
       "(array([ 151,  319,  242, 1200]), array([ 604, 1278,  967, 4796]))"
      ]
     },
     "execution_count": 12,
     "metadata": {},
     "output_type": "execute_result"
    }
   ],
   "source": [
    "np.bincount(test_target), np.bincount(train_target)"
   ]
  },
  {
   "cell_type": "markdown",
   "metadata": {
    "id": "rpCGlsV3Yn00"
   },
   "source": [
    "### Scaler"
   ]
  },
  {
   "cell_type": "code",
   "execution_count": 13,
   "metadata": {
    "executionInfo": {
     "elapsed": 16,
     "status": "ok",
     "timestamp": 1676016981851,
     "user": {
      "displayName": "Iveto Zhekova",
      "userId": "07438270920738996766"
     },
     "user_tz": -120
    },
    "id": "YUIL8evsViVT"
   },
   "outputs": [],
   "source": [
    "scaler = MinMaxScaler().fit(train_attributes)"
   ]
  },
  {
   "cell_type": "code",
   "execution_count": 14,
   "metadata": {
    "executionInfo": {
     "elapsed": 454,
     "status": "ok",
     "timestamp": 1676016982289,
     "user": {
      "displayName": "Iveto Zhekova",
      "userId": "07438270920738996766"
     },
     "user_tz": -120
    },
    "id": "I7brOczhY0v0"
   },
   "outputs": [],
   "source": [
    "train_attributes_scaled = scaler.transform(train_attributes)\n",
    "test_attributes_scaled = scaler.transform(test_attributes)"
   ]
  },
  {
   "cell_type": "code",
   "execution_count": 15,
   "metadata": {
    "executionInfo": {
     "elapsed": 15,
     "status": "ok",
     "timestamp": 1676016982291,
     "user": {
      "displayName": "Iveto Zhekova",
      "userId": "07438270920738996766"
     },
     "user_tz": -120
    },
    "id": "4NSWvKZlY2Le"
   },
   "outputs": [],
   "source": [
    "assert train_attributes_scaled.min() == 0.0 and train_attributes_scaled.max() == 1.0"
   ]
  },
  {
   "cell_type": "markdown",
   "metadata": {
    "id": "tAtQ-aJUY5kI"
   },
   "source": [
    "## 2. Base model"
   ]
  },
  {
   "cell_type": "markdown",
   "metadata": {
    "id": "skmg4Ho6bxZC"
   },
   "source": [
    "For the base model only and objective is set as logistic regresion, so the task is defined as classification."
   ]
  },
  {
   "cell_type": "code",
   "execution_count": 16,
   "metadata": {
    "executionInfo": {
     "elapsed": 14,
     "status": "ok",
     "timestamp": 1676016982292,
     "user": {
      "displayName": "Iveto Zhekova",
      "userId": "07438270920738996766"
     },
     "user_tz": -120
    },
    "id": "fVW8TyOAY4Ol"
   },
   "outputs": [],
   "source": [
    "xgb_model = xgb.XGBClassifier(objective ='reg:logistic', use_label_encoder=False, seed = 13)"
   ]
  },
  {
   "cell_type": "code",
   "execution_count": 17,
   "metadata": {
    "colab": {
     "base_uri": "https://localhost:8080/"
    },
    "executionInfo": {
     "elapsed": 7583,
     "status": "ok",
     "timestamp": 1676016989862,
     "user": {
      "displayName": "Iveto Zhekova",
      "userId": "07438270920738996766"
     },
     "user_tz": -120
    },
    "id": "WaDnjFo3ZAEX",
    "outputId": "86960de2-261e-4516-dc8f-ebcf4359e4e9"
   },
   "outputs": [
    {
     "name": "stdout",
     "output_type": "stream",
     "text": [
      "[10:55:59] WARNING: /croot/xgboost-split_1675119646044/work/src/learner.cc:1115: Starting in XGBoost 1.3.0, the default evaluation metric used with the objective 'multi:softprob' was changed from 'merror' to 'mlogloss'. Explicitly set eval_metric if you'd like to restore the old behavior.\n"
     ]
    },
    {
     "data": {
      "text/plain": [
       "XGBClassifier(base_score=0.5, booster='gbtree', colsample_bylevel=1,\n",
       "              colsample_bynode=1, colsample_bytree=1, enable_categorical=False,\n",
       "              gamma=0, gpu_id=-1, importance_type=None,\n",
       "              interaction_constraints='', learning_rate=0.300000012,\n",
       "              max_delta_step=0, max_depth=6, min_child_weight=1, missing=nan,\n",
       "              monotone_constraints='()', n_estimators=100, n_jobs=8,\n",
       "              num_parallel_tree=1, objective='multi:softprob', predictor='auto',\n",
       "              random_state=13, reg_alpha=0, reg_lambda=1, scale_pos_weight=None,\n",
       "              seed=13, subsample=1, tree_method='exact',\n",
       "              use_label_encoder=False, validate_parameters=1, ...)"
      ]
     },
     "execution_count": 17,
     "metadata": {},
     "output_type": "execute_result"
    }
   ],
   "source": [
    "xgb_model.fit(train_attributes_scaled, train_target)"
   ]
  },
  {
   "cell_type": "code",
   "execution_count": 18,
   "metadata": {
    "executionInfo": {
     "elapsed": 50,
     "status": "ok",
     "timestamp": 1676016989865,
     "user": {
      "displayName": "Iveto Zhekova",
      "userId": "07438270920738996766"
     },
     "user_tz": -120
    },
    "id": "rv_W1iTrZBl2"
   },
   "outputs": [],
   "source": [
    "predictions = xgb_model.predict(train_attributes_scaled)"
   ]
  },
  {
   "cell_type": "code",
   "execution_count": 19,
   "metadata": {
    "colab": {
     "base_uri": "https://localhost:8080/"
    },
    "executionInfo": {
     "elapsed": 244,
     "status": "ok",
     "timestamp": 1676017096368,
     "user": {
      "displayName": "Iveto Zhekova",
      "userId": "07438270920738996766"
     },
     "user_tz": -120
    },
    "id": "Z0Y68MKPZGsf",
    "outputId": "8f33761e-1eae-43f2-9407-b5bfa73eb60c"
   },
   "outputs": [
    {
     "name": "stdout",
     "output_type": "stream",
     "text": [
      "              precision    recall  f1-score   support\n",
      "\n",
      "           0       1.00      0.99      0.99       604\n",
      "           1       0.99      0.99      0.99      1278\n",
      "           2       1.00      0.95      0.97       967\n",
      "           3       0.99      1.00      0.99      4796\n",
      "\n",
      "    accuracy                           0.99      7645\n",
      "   macro avg       0.99      0.98      0.99      7645\n",
      "weighted avg       0.99      0.99      0.99      7645\n",
      "\n"
     ]
    }
   ],
   "source": [
    "print(classification_report(train_target, predictions))"
   ]
  },
  {
   "cell_type": "markdown",
   "metadata": {
    "id": "DjxX9BhscEk_"
   },
   "source": [
    "The base model shows very low bias on the train set, although a poor generalization is expected variation. The results are relatively close for the classes, despite the fact that they have very different support. From this can be concluded that the main goal at the hyperparameters' tuning step is to decrease the possible variance, while keeping the bias as low as possible."
   ]
  }
 ],
 "metadata": {
  "colab": {
   "authorship_tag": "ABX9TyPx4cx/Tqhpm+K7R7rRcqEq",
   "provenance": []
  },
  "kernelspec": {
   "display_name": "Python 3 (ipykernel)",
   "language": "python",
   "name": "python3"
  },
  "language_info": {
   "codemirror_mode": {
    "name": "ipython",
    "version": 3
   },
   "file_extension": ".py",
   "mimetype": "text/x-python",
   "name": "python",
   "nbconvert_exporter": "python",
   "pygments_lexer": "ipython3",
   "version": "3.9.15"
  }
 },
 "nbformat": 4,
 "nbformat_minor": 4
}
