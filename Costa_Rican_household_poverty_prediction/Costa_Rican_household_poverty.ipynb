{
 "cells": [
  {
   "cell_type": "code",
   "execution_count": 95,
   "id": "4b2b267b-c354-49ef-b980-85d0d6667ffc",
   "metadata": {
    "executionInfo": {
     "elapsed": 14,
     "status": "ok",
     "timestamp": 1675944574597,
     "user": {
      "displayName": "Iveto Zhekova",
      "userId": "07438270920738996766"
     },
     "user_tz": -120
    },
    "id": "4b2b267b-c354-49ef-b980-85d0d6667ffc"
   },
   "outputs": [],
   "source": [
    "import pandas as pd\n",
    "import numpy as np\n",
    "import matplotlib.pyplot as plt\n",
    "\n",
    "from sklearn.preprocessing import LabelEncoder"
   ]
  },
  {
   "cell_type": "code",
   "execution_count": 96,
   "id": "7e85ece8",
   "metadata": {},
   "outputs": [],
   "source": [
    "def one_hot_to_label_encoding(data, columns, new_column_name = 'new_col', drop_columns = False):\n",
    "    data[new_column_name] = sum([(idx + 1) * data[col_name] for idx, col_name in enumerate(columns)])\n",
    "    if drop_columns:\n",
    "        data = data.drop(columns, axis=1)\n",
    "    return data"
   ]
  },
  {
   "cell_type": "code",
   "execution_count": 97,
   "id": "77b9ab5c",
   "metadata": {},
   "outputs": [],
   "source": [
    "def filter_by_name_start(data, name_start):\n",
    "    filtered_columns = data.columns[data.columns.str.startswith(name_start)]\n",
    "    return filtered_columns"
   ]
  },
  {
   "cell_type": "code",
   "execution_count": 98,
   "id": "8CDQBQpeayGE",
   "metadata": {
    "executionInfo": {
     "elapsed": 4,
     "status": "ok",
     "timestamp": 1675950253489,
     "user": {
      "displayName": "Iveto Zhekova",
      "userId": "07438270920738996766"
     },
     "user_tz": -120
    },
    "id": "8CDQBQpeayGE"
   },
   "outputs": [],
   "source": [
    "def bar_plot(dataset, feature):\n",
    "    plt.bar(dataset[feature].value_counts().index, dataset[feature].value_counts())\n",
    "    plt.xticks(dataset[feature].value_counts().index)\n",
    "    plt.title(f'Bar plot of {feature}')\n",
    "    plt.xlabel(feature)\n",
    "    plt.ylabel('counts')\n",
    "    plt.show()"
   ]
  },
  {
   "cell_type": "code",
   "execution_count": 99,
   "id": "8OFbEj_RazWu",
   "metadata": {
    "executionInfo": {
     "elapsed": 5,
     "status": "ok",
     "timestamp": 1675950254780,
     "user": {
      "displayName": "Iveto Zhekova",
      "userId": "07438270920738996766"
     },
     "user_tz": -120
    },
    "id": "8OFbEj_RazWu"
   },
   "outputs": [],
   "source": [
    "def plot_hist(dataset, feature):\n",
    "    plt.hist(dataset[feature], bins = 'fd')\n",
    "    plt.title(f'Histogram of {feature}')\n",
    "    plt.xlabel(feature)\n",
    "    plt.ylabel('counts')\n",
    "    plt.show()"
   ]
  },
  {
   "cell_type": "markdown",
   "id": "b212b9e7-1881-4a1b-b307-7d53ffeb9ae4",
   "metadata": {
    "id": "b212b9e7-1881-4a1b-b307-7d53ffeb9ae4"
   },
   "source": [
    "## Data reading and cleaning"
   ]
  },
  {
   "cell_type": "markdown",
   "id": "2be2ae14-101b-447b-9f3d-915302838b9a",
   "metadata": {
    "id": "2be2ae14-101b-447b-9f3d-915302838b9a"
   },
   "source": [
    "### Read data"
   ]
  },
  {
   "cell_type": "code",
   "execution_count": 100,
   "id": "2d91d3c1-642f-46d9-ba0c-296b7e51028a",
   "metadata": {
    "id": "2d91d3c1-642f-46d9-ba0c-296b7e51028a"
   },
   "outputs": [],
   "source": [
    "data = pd.read_csv('data/train.csv')"
   ]
  },
  {
   "cell_type": "code",
   "execution_count": 101,
   "id": "68df0e8b-3a67-4d66-b8d1-f9582f59378c",
   "metadata": {
    "colab": {
     "base_uri": "https://localhost:8080/",
     "height": 154
    },
    "executionInfo": {
     "elapsed": 16,
     "status": "ok",
     "timestamp": 1675943990368,
     "user": {
      "displayName": "Iveto Zhekova",
      "userId": "07438270920738996766"
     },
     "user_tz": -120
    },
    "id": "68df0e8b-3a67-4d66-b8d1-f9582f59378c",
    "outputId": "48a1a2c9-2879-4289-f530-361866952d23"
   },
   "outputs": [
    {
     "data": {
      "text/html": [
       "<div>\n",
       "<style scoped>\n",
       "    .dataframe tbody tr th:only-of-type {\n",
       "        vertical-align: middle;\n",
       "    }\n",
       "\n",
       "    .dataframe tbody tr th {\n",
       "        vertical-align: top;\n",
       "    }\n",
       "\n",
       "    .dataframe thead th {\n",
       "        text-align: right;\n",
       "    }\n",
       "</style>\n",
       "<table border=\"1\" class=\"dataframe\">\n",
       "  <thead>\n",
       "    <tr style=\"text-align: right;\">\n",
       "      <th></th>\n",
       "      <th>Id</th>\n",
       "      <th>v2a1</th>\n",
       "      <th>hacdor</th>\n",
       "      <th>rooms</th>\n",
       "      <th>hacapo</th>\n",
       "      <th>v14a</th>\n",
       "      <th>refrig</th>\n",
       "      <th>v18q</th>\n",
       "      <th>v18q1</th>\n",
       "      <th>r4h1</th>\n",
       "      <th>...</th>\n",
       "      <th>SQBescolari</th>\n",
       "      <th>SQBage</th>\n",
       "      <th>SQBhogar_total</th>\n",
       "      <th>SQBedjefe</th>\n",
       "      <th>SQBhogar_nin</th>\n",
       "      <th>SQBovercrowding</th>\n",
       "      <th>SQBdependency</th>\n",
       "      <th>SQBmeaned</th>\n",
       "      <th>agesq</th>\n",
       "      <th>Target</th>\n",
       "    </tr>\n",
       "  </thead>\n",
       "  <tbody>\n",
       "    <tr>\n",
       "      <th>0</th>\n",
       "      <td>ID_279628684</td>\n",
       "      <td>190000.0</td>\n",
       "      <td>0</td>\n",
       "      <td>3</td>\n",
       "      <td>0</td>\n",
       "      <td>1</td>\n",
       "      <td>1</td>\n",
       "      <td>0</td>\n",
       "      <td>NaN</td>\n",
       "      <td>0</td>\n",
       "      <td>...</td>\n",
       "      <td>100</td>\n",
       "      <td>1849</td>\n",
       "      <td>1</td>\n",
       "      <td>100</td>\n",
       "      <td>0</td>\n",
       "      <td>1.0</td>\n",
       "      <td>0.0</td>\n",
       "      <td>100.0</td>\n",
       "      <td>1849</td>\n",
       "      <td>4</td>\n",
       "    </tr>\n",
       "  </tbody>\n",
       "</table>\n",
       "<p>1 rows × 143 columns</p>\n",
       "</div>"
      ],
      "text/plain": [
       "             Id      v2a1  hacdor  rooms  hacapo  v14a  refrig  v18q  v18q1  \\\n",
       "0  ID_279628684  190000.0       0      3       0     1       1     0    NaN   \n",
       "\n",
       "   r4h1  ...  SQBescolari  SQBage  SQBhogar_total  SQBedjefe  SQBhogar_nin  \\\n",
       "0     0  ...          100    1849               1        100             0   \n",
       "\n",
       "   SQBovercrowding  SQBdependency  SQBmeaned  agesq  Target  \n",
       "0              1.0            0.0      100.0   1849       4  \n",
       "\n",
       "[1 rows x 143 columns]"
      ]
     },
     "execution_count": 101,
     "metadata": {},
     "output_type": "execute_result"
    }
   ],
   "source": [
    "data.head(1)"
   ]
  },
  {
   "cell_type": "code",
   "execution_count": 102,
   "id": "a25c2935-9953-4cf3-8353-43c2ae84fbd1",
   "metadata": {
    "colab": {
     "base_uri": "https://localhost:8080/"
    },
    "executionInfo": {
     "elapsed": 9,
     "status": "ok",
     "timestamp": 1675943991927,
     "user": {
      "displayName": "Iveto Zhekova",
      "userId": "07438270920738996766"
     },
     "user_tz": -120
    },
    "id": "a25c2935-9953-4cf3-8353-43c2ae84fbd1",
    "outputId": "8da523b4-99a7-484a-a673-d0152471dcef"
   },
   "outputs": [
    {
     "data": {
      "text/plain": [
       "(9557, 143)"
      ]
     },
     "execution_count": 102,
     "metadata": {},
     "output_type": "execute_result"
    }
   ],
   "source": [
    "data.shape"
   ]
  },
  {
   "cell_type": "markdown",
   "id": "1d32f26d-92c8-44b7-9e89-a52149460843",
   "metadata": {
    "id": "1d32f26d-92c8-44b7-9e89-a52149460843"
   },
   "source": [
    "The data has 143 features with 9557 records."
   ]
  },
  {
   "cell_type": "markdown",
   "id": "070787f3-84b9-4038-966f-c7827d2a6d8d",
   "metadata": {
    "id": "070787f3-84b9-4038-966f-c7827d2a6d8d"
   },
   "source": [
    "### Missing data"
   ]
  },
  {
   "cell_type": "code",
   "execution_count": 103,
   "id": "a1b540ca-1b5f-4b5f-991f-331fe94c31b5",
   "metadata": {
    "id": "a1b540ca-1b5f-4b5f-991f-331fe94c31b5"
   },
   "outputs": [],
   "source": [
    "missing_data = data.isna().sum()"
   ]
  },
  {
   "cell_type": "code",
   "execution_count": 104,
   "id": "f02e4b7e-e791-4d82-93a1-877a92d3e731",
   "metadata": {
    "colab": {
     "base_uri": "https://localhost:8080/"
    },
    "executionInfo": {
     "elapsed": 7,
     "status": "ok",
     "timestamp": 1675943998092,
     "user": {
      "displayName": "Iveto Zhekova",
      "userId": "07438270920738996766"
     },
     "user_tz": -120
    },
    "id": "f02e4b7e-e791-4d82-93a1-877a92d3e731",
    "outputId": "bd469bac-1e2d-4403-d08a-821b60ffb543"
   },
   "outputs": [
    {
     "data": {
      "text/plain": [
       "v2a1         6860\n",
       "v18q1        7342\n",
       "rez_esc      7928\n",
       "meaneduc        5\n",
       "SQBmeaned       5\n",
       "dtype: int64"
      ]
     },
     "execution_count": 104,
     "metadata": {},
     "output_type": "execute_result"
    }
   ],
   "source": [
    "missing_data[missing_data != 0]"
   ]
  },
  {
   "cell_type": "markdown",
   "id": "de3628f9-98f5-4ac4-bcc1-7c0fb1cda8b2",
   "metadata": {
    "id": "de3628f9-98f5-4ac4-bcc1-7c0fb1cda8b2"
   },
   "source": [
    "There are missing values for only 5 columns of all 143. The missing data percentag is as follows:\n",
    "- 71% for montly rent payment `v2a1`\n",
    "- 76% for the number of tablets household owns `v18q1`\n",
    "- 82% for years behind in school `rez_esc`\n",
    "- less than 1% for average years of education for adults (18+) `meaneduc`\n",
    "- less than 1% for square of the mean years of education of adults (>=18) in the household `SQBmeaned`\n",
    "\n",
    "The first tree have too much missing data to be imputed good enough, so those will be dropped. `meaneduc` and `SQBmeaned` are realeted and show pretty much same information. With only 5 missing records they can easily be imputed."
   ]
  },
  {
   "cell_type": "code",
   "execution_count": 105,
   "id": "74682704-22c5-4e4c-844b-22808d1c3e2e",
   "metadata": {
    "id": "74682704-22c5-4e4c-844b-22808d1c3e2e"
   },
   "outputs": [],
   "source": [
    "data['meaneduc'] = data['meaneduc'].fillna(data['meaneduc'].mean())"
   ]
  },
  {
   "cell_type": "code",
   "execution_count": 106,
   "id": "c4465771-a403-40a0-b283-9750176923d6",
   "metadata": {
    "id": "c4465771-a403-40a0-b283-9750176923d6"
   },
   "outputs": [],
   "source": [
    "assert data['meaneduc'].isna().any() == False"
   ]
  },
  {
   "cell_type": "code",
   "execution_count": 107,
   "id": "235271df-6d13-402f-8690-a47223814f42",
   "metadata": {
    "id": "235271df-6d13-402f-8690-a47223814f42"
   },
   "outputs": [],
   "source": [
    "data = data.drop(['v2a1', 'v18q1', 'rez_esc'], axis = 1)"
   ]
  },
  {
   "attachments": {},
   "cell_type": "markdown",
   "id": "9d7d4de8-615a-460c-8797-f7a06e2a9161",
   "metadata": {
    "id": "9d7d4de8-615a-460c-8797-f7a06e2a9161",
    "tags": []
   },
   "source": [
    "## Feature engineering"
   ]
  },
  {
   "cell_type": "code",
   "execution_count": 108,
   "id": "e85e0890",
   "metadata": {},
   "outputs": [],
   "source": [
    "data['edjefe'] = data['edjefe'].replace({'no': 0, 'yes': 1}).astype(float)\n",
    "data['edjefa'] = data['edjefa'].replace({'no': 0, 'yes': 1}).astype(float)\n",
    "data['dependency'] = data['dependency'].replace({'no': 0, 'yes': 1}).astype(float)"
   ]
  },
  {
   "attachments": {},
   "cell_type": "markdown",
   "id": "03b4a29e-d695-437a-9fd4-8a42d12e5ef9",
   "metadata": {
    "id": "03b4a29e-d695-437a-9fd4-8a42d12e5ef9"
   },
   "source": [
    "Some of the features will be deleted, because the information provided by them is covered by another feature or are id related (`idhogar`; `ID` is used as index). From other a new feature will be created before deletion.\n",
    "Such features are:\n",
    "- `qmobilephone` - a new feature `mobilephone_per_person` is extracted using the number of people of age 12 or older;\n",
    "- `rooms` and `bedrooms`- a feature `people_per_room` and `people_per_bedroom` is extracted;\n",
    "- `tipovivi1`, `tipovivi2`, `tipovivi3`, `tipovivi4`, `tipovivi5` - a binary, categorical feature `paying_rent` is extracted\n",
    "\n",
    "The features below are dropped, because the information provided is mostly covered by another one: \n",
    "- `r4h1`, `r4h2`,`r4m1`, `r4m2`, `r4t1`, `r4t2`, `r4t3`, `male`, `female`, `hogar_total`;\n",
    "- `mobilephone` is binary categorical feature, which shows if household have a mobile phone; that information is also presents in `qmobilephone`, which consists of the total number of phones, with 0 for no phone"
   ]
  },
  {
   "cell_type": "code",
   "execution_count": 109,
   "id": "ba01f6ef",
   "metadata": {},
   "outputs": [],
   "source": [
    "data['mobilephone_per_person'] = np.where(data['qmobilephone'] > 0, data['qmobilephone'] / data['r4t2'], 0)\n",
    "data['people_per_room'] = data['rooms'] / data['tamviv']\n",
    "data['people_per_bedroom'] = data['bedrooms'] / data['tamviv']\n",
    "data['paying_rent'] = np.where(\n",
    "    (data['tipovivi2'] == 1) | (data['tipovivi3'] == 1) | (data['tipovivi4'] == 1),\n",
    "    1, 0)"
   ]
  },
  {
   "cell_type": "code",
   "execution_count": 110,
   "id": "41612c80-7472-4a6b-a15e-70f852d7c53d",
   "metadata": {
    "colab": {
     "base_uri": "https://localhost:8080/",
     "height": 426
    },
    "executionInfo": {
     "elapsed": 425,
     "status": "ok",
     "timestamp": 1675944012778,
     "user": {
      "displayName": "Iveto Zhekova",
      "userId": "07438270920738996766"
     },
     "user_tz": -120
    },
    "id": "41612c80-7472-4a6b-a15e-70f852d7c53d",
    "outputId": "d3402883-f606-40b7-9368-d3929bedb9c1"
   },
   "outputs": [],
   "source": [
    "data = data.set_index('Id')"
   ]
  },
  {
   "cell_type": "code",
   "execution_count": 111,
   "id": "f0d0c776",
   "metadata": {},
   "outputs": [],
   "source": [
    "data = data.drop(['idhogar', 'rooms', 'bedrooms', 'qmobilephone', 'mobilephone', 'tipovivi1', 'tipovivi2', 'tipovivi3', 'tipovivi4', 'tipovivi5',\n",
    "                 'SQBescolari', 'SQBage', 'SQBhogar_total', 'SQBedjefe', 'SQBhogar_nin', 'SQBovercrowding', 'SQBdependency', 'SQBmeaned',\n",
    "                 'agesq'], axis = 1)"
   ]
  },
  {
   "cell_type": "code",
   "execution_count": 112,
   "id": "a31958dc",
   "metadata": {},
   "outputs": [
    {
     "data": {
      "text/plain": [
       "(9557, 124)"
      ]
     },
     "execution_count": 112,
     "metadata": {},
     "output_type": "execute_result"
    }
   ],
   "source": [
    "data.shape"
   ]
  },
  {
   "attachments": {},
   "cell_type": "markdown",
   "id": "359d5629",
   "metadata": {},
   "source": [
    "### Label encoder"
   ]
  },
  {
   "attachments": {},
   "cell_type": "markdown",
   "id": "725085b4",
   "metadata": {},
   "source": [
    "#### Categorical attributes"
   ]
  },
  {
   "attachments": {},
   "cell_type": "markdown",
   "id": "b5b8407d",
   "metadata": {},
   "source": [
    "After the feature engineering there are still 124 columns, most of which categorical. Those are result of one hot encoding. To reduce the dimensions, another encoding strategy is applied - label encoding. "
   ]
  },
  {
   "cell_type": "code",
   "execution_count": 113,
   "id": "90b43ad0",
   "metadata": {},
   "outputs": [],
   "source": [
    "outside_material_cols = filter_by_name_start(data, 'pared')\n",
    "floor_material_cols = filter_by_name_start(data, 'piso')\n",
    "roof_material_cols = filter_by_name_start(data, 'techo')\n",
    "water_provision_cols = filter_by_name_start(data, 'abastagua')\n",
    "electricity_cols = data[['public', 'planpri', 'noelec', 'coopele']]\n",
    "waste_water_connection_cols = filter_by_name_start(data, 'sanitario')\n",
    "energy_source_for_cooking_cols = filter_by_name_start(data, 'energcocinar')\n",
    "rubbish_disposal_cols = filter_by_name_start(data, 'elimbasu')\n",
    "marital_status_cols = filter_by_name_start(data, 'estadocivil')\n",
    "family_relation_cols = filter_by_name_start(data, 'parentesco')\n",
    "level_of_education_cols = filter_by_name_start(data, 'instlevel')\n",
    "region_cols = filter_by_name_start(data, 'lugar')\n",
    "walls_condition_cols = filter_by_name_start(data, 'epared')\n",
    "roof_condition_cols = filter_by_name_start(data, 'etecho')\n",
    "floor_condition_cols = filter_by_name_start(data, 'eviv')"
   ]
  },
  {
   "cell_type": "code",
   "execution_count": 114,
   "id": "557a5d71",
   "metadata": {},
   "outputs": [],
   "source": [
    "data = one_hot_to_label_encoding(data, outside_material_cols, new_column_name = 'outside_material', drop_columns = True)\n",
    "data = one_hot_to_label_encoding(data, floor_material_cols, new_column_name = 'floor_material', drop_columns = True)\n",
    "data = one_hot_to_label_encoding(data, roof_material_cols, new_column_name = 'roof_material', drop_columns = True)\n",
    "data = one_hot_to_label_encoding(data, water_provision_cols, new_column_name = 'water_provisio', drop_columns = True)\n",
    "data = one_hot_to_label_encoding(data, electricity_cols, new_column_name = 'electricity', drop_columns = True)\n",
    "data = one_hot_to_label_encoding(data, waste_water_connection_cols, new_column_name = 'waste_water_connection', drop_columns = True)\n",
    "data = one_hot_to_label_encoding(data, energy_source_for_cooking_cols, new_column_name = 'energy_for_cooking', drop_columns = True)\n",
    "data = one_hot_to_label_encoding(data, rubbish_disposal_cols, new_column_name = 'rubbish_disposal', drop_columns = True)\n",
    "data = one_hot_to_label_encoding(data, marital_status_cols, new_column_name = 'marital_status', drop_columns = True)\n",
    "data = one_hot_to_label_encoding(data, family_relation_cols, new_column_name = 'family_relation', drop_columns = True)\n",
    "data = one_hot_to_label_encoding(data, level_of_education_cols, new_column_name = 'level_of_education', drop_columns = True)\n",
    "data = one_hot_to_label_encoding(data, region_cols, new_column_name = 'region', drop_columns = True)\n",
    "data = one_hot_to_label_encoding(data, walls_condition_cols, new_column_name = 'walls_condition', drop_columns = True)\n",
    "data = one_hot_to_label_encoding(data, roof_condition_cols, new_column_name = 'roof_condition', drop_columns = True)\n",
    "data = one_hot_to_label_encoding(data, floor_condition_cols, new_column_name = 'floor_condition', drop_columns = True)"
   ]
  },
  {
   "cell_type": "code",
   "execution_count": 115,
   "id": "035ef1a7",
   "metadata": {},
   "outputs": [],
   "source": [
    "data = data.drop(['r4h1', 'r4h2', 'r4m1', 'r4m2', 'r4t1', 'r4t2', 'r4t3',\n",
    "                  'male', 'female', 'hogar_total'], axis = 1)"
   ]
  },
  {
   "cell_type": "code",
   "execution_count": 116,
   "id": "c9183def",
   "metadata": {},
   "outputs": [],
   "source": [
    "numerical_columns = ['r4h3', 'r4m3', 'tamhog', 'tamhog', 'escolari', 'hhsize', 'hogar_nin', 'hogar_adul', 'hogar_mayor', 'dependency', \n",
    "                    'edjefe', 'edjefa', 'meaneduc', 'overcrowding', 'age', 'mobilephone_per_person', 'people_per_room', 'people_per_bedroom']\n",
    "categorical_columns = data.columns[~data.columns.isin(numerical_columns)]"
   ]
  },
  {
   "cell_type": "code",
   "execution_count": 117,
   "id": "fca1b84e",
   "metadata": {},
   "outputs": [],
   "source": [
    "numerical_columns = ['r4h3', 'r4m3', 'tamhog', 'tamhog', 'escolari', 'hhsize', 'hogar_nin', 'hogar_adul', 'hogar_mayor', 'dependency', \n",
    "                    'edjefe', 'edjefa', 'meaneduc', 'overcrowding', 'age', 'mobilephone_per_person', 'people_per_room', 'people_per_bedroom']\n",
    "categorical_columns = data.columns[~data.columns.isin(numerical_columns)]"
   ]
  },
  {
   "cell_type": "code",
   "execution_count": 118,
   "id": "71701e4e",
   "metadata": {},
   "outputs": [
    {
     "data": {
      "text/plain": [
       "(9557, 46)"
      ]
     },
     "execution_count": 118,
     "metadata": {},
     "output_type": "execute_result"
    }
   ],
   "source": [
    "data.shape"
   ]
  },
  {
   "attachments": {},
   "cell_type": "markdown",
   "id": "2def1ed4",
   "metadata": {},
   "source": [
    "#### Target"
   ]
  },
  {
   "cell_type": "code",
   "execution_count": 119,
   "id": "bb70f4db",
   "metadata": {},
   "outputs": [],
   "source": [
    "labels_original = ['extreme poverty', 'moderate poverty', 'vulnerable households', 'non vulnerable households']"
   ]
  },
  {
   "cell_type": "code",
   "execution_count": 120,
   "id": "43a1d2df",
   "metadata": {},
   "outputs": [],
   "source": [
    "target = data['Target']\n",
    "attributes = data.drop(['Target'], axis = 1)"
   ]
  },
  {
   "cell_type": "code",
   "execution_count": 121,
   "id": "444f0ae9",
   "metadata": {},
   "outputs": [],
   "source": [
    "label_encoder = LabelEncoder().fit(target.unique())\n",
    "target_encoded = label_encoder.transform(target)"
   ]
  },
  {
   "cell_type": "markdown",
   "id": "590f40be-59e3-469b-97a1-2699789a5100",
   "metadata": {
    "id": "590f40be-59e3-469b-97a1-2699789a5100"
   },
   "source": [
    "## Exploratory data analysis"
   ]
  },
  {
   "cell_type": "markdown",
   "id": "d9527db2-86e3-4740-9ba5-307ae0b59bca",
   "metadata": {
    "id": "d9527db2-86e3-4740-9ba5-307ae0b59bca"
   },
   "source": [
    "### Correlations"
   ]
  },
  {
   "attachments": {},
   "cell_type": "markdown",
   "id": "3c6779e1-b045-4406-8858-b173eb7c8173",
   "metadata": {
    "id": "3c6779e1-b045-4406-8858-b173eb7c8173"
   },
   "source": [
    "After the preprocessing data has 46 features. From those only 14 features have weak correlation (between 0.2 and 0.35). \n",
    "Positive correlation is present with 10 features:\n",
    "- `meaneduc` - average years of education for adults (18+)\n",
    "- `walls_condition`\n",
    "- `cielorazo` - if the house has ceiling\n",
    "- `floor_condition`\n",
    "- `escolari` - years of schooling\n",
    "- `level_of_education`\n",
    "- `roof_condition`\n",
    "- `edjefe` -  years of education of male head of household, based on the interaction of `escolari`(years of education), head of household and gender\n",
    "- `v18q` - owns a tablet \n",
    "- `people_per_room`\n",
    "\n",
    "Negative correlation is present in 4 features:\n",
    "- `hogar_nin` - Number of children 0 to 19 in household\n",
    "- `overcrowding` - # people per room\n",
    "- `outside_material`\n",
    "- `floor_material`"
   ]
  },
  {
   "cell_type": "code",
   "execution_count": 122,
   "id": "706a42b0-3e5a-4a60-a5c3-2b560eda3d47",
   "metadata": {
    "id": "706a42b0-3e5a-4a60-a5c3-2b560eda3d47"
   },
   "outputs": [],
   "source": [
    "corrs = data.corr()"
   ]
  },
  {
   "cell_type": "code",
   "execution_count": 123,
   "id": "958391e8-d117-45b9-8c3a-e6c4a35a6c39",
   "metadata": {
    "colab": {
     "base_uri": "https://localhost:8080/"
    },
    "executionInfo": {
     "elapsed": 6,
     "status": "ok",
     "timestamp": 1675944024235,
     "user": {
      "displayName": "Iveto Zhekova",
      "userId": "07438270920738996766"
     },
     "user_tz": -120
    },
    "id": "958391e8-d117-45b9-8c3a-e6c4a35a6c39",
    "outputId": "a8163189-dcdc-4d06-a26f-9cce1dba22f6"
   },
   "outputs": [
    {
     "data": {
      "text/plain": [
       "Target                1.000000\n",
       "meaneduc              0.335161\n",
       "walls_condition       0.306293\n",
       "cielorazo             0.304421\n",
       "floor_condition       0.303165\n",
       "escolari              0.302305\n",
       "level_of_education    0.296871\n",
       "roof_condition        0.268440\n",
       "edjefe                0.243215\n",
       "v18q                  0.238864\n",
       "people_per_room       0.203374\n",
       "Name: Target, dtype: float64"
      ]
     },
     "execution_count": 123,
     "metadata": {},
     "output_type": "execute_result"
    }
   ],
   "source": [
    "(corrs['Target'][corrs['Target'] > 0.2]).sort_values(ascending = False)"
   ]
  },
  {
   "cell_type": "code",
   "execution_count": 124,
   "id": "6f4a5d7c-6974-4af0-921f-4d9b297f959c",
   "metadata": {
    "colab": {
     "base_uri": "https://localhost:8080/"
    },
    "executionInfo": {
     "elapsed": 6,
     "status": "ok",
     "timestamp": 1675944026027,
     "user": {
      "displayName": "Iveto Zhekova",
      "userId": "07438270920738996766"
     },
     "user_tz": -120
    },
    "id": "6f4a5d7c-6974-4af0-921f-4d9b297f959c",
    "outputId": "87bd7551-ff64-4274-e62b-966401cbe8c0"
   },
   "outputs": [
    {
     "data": {
      "text/plain": [
       "hogar_nin          -0.328199\n",
       "overcrowding       -0.289110\n",
       "outside_material   -0.253870\n",
       "floor_material     -0.218262\n",
       "Name: Target, dtype: float64"
      ]
     },
     "execution_count": 124,
     "metadata": {},
     "output_type": "execute_result"
    }
   ],
   "source": [
    "(corrs['Target'][corrs['Target'] < -0.2]).sort_values()"
   ]
  },
  {
   "cell_type": "markdown",
   "id": "0ydJqFMTc6B7",
   "metadata": {
    "id": "0ydJqFMTc6B7"
   },
   "source": [
    "### Sample group properties"
   ]
  },
  {
   "cell_type": "markdown",
   "id": "HG2lH3TylEtD",
   "metadata": {
    "id": "HG2lH3TylEtD"
   },
   "source": [
    "The data consists of 9557 recors of which 2973 are heads of a household. The mean age is 34 years old and the maximum age is 97."
   ]
  },
  {
   "cell_type": "code",
   "execution_count": 125,
   "id": "Htsr67_EfGj0",
   "metadata": {
    "colab": {
     "base_uri": "https://localhost:8080/"
    },
    "executionInfo": {
     "elapsed": 922,
     "status": "ok",
     "timestamp": 1675951892808,
     "user": {
      "displayName": "Iveto Zhekova",
      "userId": "07438270920738996766"
     },
     "user_tz": -120
    },
    "id": "Htsr67_EfGj0",
    "outputId": "94315a51-3c5d-4124-80f8-32040750568a"
   },
   "outputs": [
    {
     "data": {
      "text/plain": [
       "9557"
      ]
     },
     "execution_count": 125,
     "metadata": {},
     "output_type": "execute_result"
    }
   ],
   "source": [
    "data.shape[0]"
   ]
  },
  {
   "cell_type": "code",
   "execution_count": 126,
   "id": "f8e4a363",
   "metadata": {},
   "outputs": [
    {
     "data": {
      "text/plain": [
       "1    2973\n",
       "Name: family_relation, dtype: int64"
      ]
     },
     "execution_count": 126,
     "metadata": {},
     "output_type": "execute_result"
    }
   ],
   "source": [
    "data['family_relation'][data['family_relation'] == 1].value_counts()"
   ]
  },
  {
   "cell_type": "code",
   "execution_count": 127,
   "id": "N2ZMah4EhLlD",
   "metadata": {
    "colab": {
     "base_uri": "https://localhost:8080/"
    },
    "executionInfo": {
     "elapsed": 7,
     "status": "ok",
     "timestamp": 1675951934314,
     "user": {
      "displayName": "Iveto Zhekova",
      "userId": "07438270920738996766"
     },
     "user_tz": -120
    },
    "id": "N2ZMah4EhLlD",
    "outputId": "17e4d40c-c30e-4b25-c1b7-de151ec1e446"
   },
   "outputs": [
    {
     "data": {
      "text/plain": [
       "count    9557.000000\n",
       "mean       34.303547\n",
       "std        21.612261\n",
       "min         0.000000\n",
       "25%        17.000000\n",
       "50%        31.000000\n",
       "75%        51.000000\n",
       "max        97.000000\n",
       "Name: age, dtype: float64"
      ]
     },
     "execution_count": 127,
     "metadata": {},
     "output_type": "execute_result"
    }
   ],
   "source": [
    "data['age'].describe()"
   ]
  },
  {
   "attachments": {},
   "cell_type": "markdown",
   "id": "HSbwwCAGmBoQ",
   "metadata": {
    "id": "HSbwwCAGmBoQ"
   },
   "source": [
    "\n",
    "From those 6829 or around 72% are living in urban area and the other 2728 - in rural."
   ]
  },
  {
   "cell_type": "code",
   "execution_count": 128,
   "id": "Lc-vuwTChROD",
   "metadata": {
    "colab": {
     "base_uri": "https://localhost:8080/"
    },
    "executionInfo": {
     "elapsed": 7,
     "status": "ok",
     "timestamp": 1675951953803,
     "user": {
      "displayName": "Iveto Zhekova",
      "userId": "07438270920738996766"
     },
     "user_tz": -120
    },
    "id": "Lc-vuwTChROD",
    "outputId": "16350f04-d53f-46cb-d14f-4f398ff21e8d"
   },
   "outputs": [
    {
     "data": {
      "text/plain": [
       "1    6829\n",
       "0    2728\n",
       "Name: area1, dtype: int64"
      ]
     },
     "execution_count": 128,
     "metadata": {},
     "output_type": "execute_result"
    }
   ],
   "source": [
    "data['area1'].value_counts()"
   ]
  },
  {
   "cell_type": "markdown",
   "id": "xoO4cN8tmFif",
   "metadata": {
    "id": "xoO4cN8tmFif"
   },
   "source": [
    "There are almost 2 times more male heads of household than female."
   ]
  },
  {
   "cell_type": "code",
   "execution_count": 129,
   "id": "l2gDqn6rhfgj",
   "metadata": {
    "colab": {
     "base_uri": "https://localhost:8080/"
    },
    "executionInfo": {
     "elapsed": 587,
     "status": "ok",
     "timestamp": 1675952066671,
     "user": {
      "displayName": "Iveto Zhekova",
      "userId": "07438270920738996766"
     },
     "user_tz": -120
    },
    "id": "l2gDqn6rhfgj",
    "outputId": "7d94610f-0d49-4d01-c8e0-ee4ba1b2df44"
   },
   "outputs": [
    {
     "data": {
      "text/plain": [
       "0.0    3762\n",
       "Name: edjefe, dtype: int64"
      ]
     },
     "execution_count": 129,
     "metadata": {},
     "output_type": "execute_result"
    }
   ],
   "source": [
    "data['edjefe'][data['edjefe'] == 0].value_counts()"
   ]
  },
  {
   "cell_type": "code",
   "execution_count": 130,
   "id": "vAqj99tphkZK",
   "metadata": {
    "colab": {
     "base_uri": "https://localhost:8080/"
    },
    "executionInfo": {
     "elapsed": 7,
     "status": "ok",
     "timestamp": 1675952072096,
     "user": {
      "displayName": "Iveto Zhekova",
      "userId": "07438270920738996766"
     },
     "user_tz": -120
    },
    "id": "vAqj99tphkZK",
    "outputId": "d803775b-7257-44c2-e423-693134cb17b6"
   },
   "outputs": [
    {
     "data": {
      "text/plain": [
       "0.0    6230\n",
       "Name: edjefa, dtype: int64"
      ]
     },
     "execution_count": 130,
     "metadata": {},
     "output_type": "execute_result"
    }
   ],
   "source": [
    "data['edjefa'][data['edjefa'] == 0].value_counts()"
   ]
  },
  {
   "attachments": {},
   "cell_type": "markdown",
   "id": "coxPcoc0mxrL",
   "metadata": {
    "id": "coxPcoc0mxrL"
   },
   "source": [
    "The target classes are 4 and they are imbalanced. 62.7% of all records are classified as non vulnerable households (class 4), 16,7% are classified as moderate poverty (class 2), 12.6% - vulnerable households (class 3) and 8% - extreme poverty (class 1)."
   ]
  },
  {
   "cell_type": "code",
   "execution_count": 131,
   "id": "OufWDuo7mro1",
   "metadata": {
    "colab": {
     "base_uri": "https://localhost:8080/"
    },
    "executionInfo": {
     "elapsed": 11,
     "status": "ok",
     "timestamp": 1675953368101,
     "user": {
      "displayName": "Iveto Zhekova",
      "userId": "07438270920738996766"
     },
     "user_tz": -120
    },
    "id": "OufWDuo7mro1",
    "outputId": "3dd81234-db23-4baa-ea09-676767cb5c1a"
   },
   "outputs": [
    {
     "data": {
      "text/plain": [
       "4    5996\n",
       "2    1597\n",
       "3    1209\n",
       "1     755\n",
       "Name: Target, dtype: int64"
      ]
     },
     "execution_count": 131,
     "metadata": {},
     "output_type": "execute_result"
    }
   ],
   "source": [
    "data['Target'].value_counts()"
   ]
  },
  {
   "cell_type": "markdown",
   "id": "alfwrbNbaqxt",
   "metadata": {
    "id": "alfwrbNbaqxt"
   },
   "source": [
    "### Rooms and overcrowding"
   ]
  },
  {
   "attachments": {},
   "cell_type": "markdown",
   "id": "NkgyJ5nea755",
   "metadata": {
    "id": "NkgyJ5nea755"
   },
   "source": [
    "The plot below show that households where more that 7 or only 1 person is living are not common. Most households have 3, 4 or 5 people living."
   ]
  },
  {
   "cell_type": "code",
   "execution_count": 132,
   "id": "2S_yUFtdEpX3",
   "metadata": {
    "colab": {
     "base_uri": "https://localhost:8080/",
     "height": 295
    },
    "executionInfo": {
     "elapsed": 1834,
     "status": "ok",
     "timestamp": 1675944547378,
     "user": {
      "displayName": "Iveto Zhekova",
      "userId": "07438270920738996766"
     },
     "user_tz": -120
    },
    "id": "2S_yUFtdEpX3",
    "outputId": "0675f50c-5b7d-4c43-838d-161d51a658d5"
   },
   "outputs": [
    {
     "data": {
      "image/png": "[encoded data removed]",
      "text/plain": [
       "<Figure size 640x480 with 1 Axes>"
      ]
     },
     "metadata": {},
     "output_type": "display_data"
    }
   ],
   "source": [
    "bar_plot(data, 'tamviv')"
   ]
  },
  {
   "cell_type": "markdown",
   "id": "nGHPggfGbqG5",
   "metadata": {
    "id": "nGHPggfGbqG5"
   },
   "source": [
    "### Education"
   ]
  },
  {
   "attachments": {},
   "cell_type": "markdown",
   "id": "6NGtWrzGb2sC",
   "metadata": {
    "id": "6NGtWrzGb2sC"
   },
   "source": [
    "Most common years spend at school are 0, 6 or 11. More that 17 years are very rare. Comparing the male and female head of household's year of education, it can be seen that females have mostly spend 0 years of education. Of course this might be a result of initial missing data imputation."
   ]
  },
  {
   "cell_type": "code",
   "execution_count": 133,
   "id": "pwwi2Gg_GGnr",
   "metadata": {
    "colab": {
     "base_uri": "https://localhost:8080/",
     "height": 295
    },
    "executionInfo": {
     "elapsed": 21,
     "status": "ok",
     "timestamp": 1675950475351,
     "user": {
      "displayName": "Iveto Zhekova",
      "userId": "07438270920738996766"
     },
     "user_tz": -120
    },
    "id": "pwwi2Gg_GGnr",
    "outputId": "4952db96-83ad-4614-fac7-231181b25bc9"
   },
   "outputs": [
    {
     "data": {
      "image/png": "[encoded data removed]",
      "text/plain": [
       "<Figure size 640x480 with 1 Axes>"
      ]
     },
     "metadata": {},
     "output_type": "display_data"
    }
   ],
   "source": [
    "bar_plot(data, 'escolari')"
   ]
  },
  {
   "cell_type": "code",
   "execution_count": 134,
   "id": "kdaTAHOgW6dj",
   "metadata": {
    "colab": {
     "base_uri": "https://localhost:8080/",
     "height": 295
    },
    "executionInfo": {
     "elapsed": 1340,
     "status": "ok",
     "timestamp": 1675949557414,
     "user": {
      "displayName": "Iveto Zhekova",
      "userId": "07438270920738996766"
     },
     "user_tz": -120
    },
    "id": "kdaTAHOgW6dj",
    "outputId": "aea2d3ba-d0cf-471a-d4b2-f94e1846760c"
   },
   "outputs": [
    {
     "data": {
      "image/png": "[encoded data removed]",
      "text/plain": [
       "<Figure size 640x480 with 1 Axes>"
      ]
     },
     "metadata": {},
     "output_type": "display_data"
    }
   ],
   "source": [
    "plt.hist(data['edjefe'], bins = 'fd', alpha = 0.7, label = 'male')\n",
    "plt.hist(data['edjefa'], bins = 'fd', alpha = 0.7, label = 'female')\n",
    "plt.title('Histogram of years of education of male/female head of household')\n",
    "plt.xlabel('years of education')\n",
    "plt.ylabel('counts')\n",
    "plt.legend()\n",
    "plt.show()"
   ]
  }
 ],
 "metadata": {
  "colab": {
   "provenance": []
  },
  "kernelspec": {
   "display_name": "DL",
   "language": "python",
   "name": "python3"
  },
  "language_info": {
   "codemirror_mode": {
    "name": "ipython",
    "version": 3
   },
   "file_extension": ".py",
   "mimetype": "text/x-python",
   "name": "python",
   "nbconvert_exporter": "python",
   "pygments_lexer": "ipython3",
   "version": "3.9.15"
  },
  "vscode": {
   "interpreter": {
    "hash": "343236c4663302719c9e2721c0a2913b2ddadf5bd63c399b51edcfecb0ae7640"
   }
  }
 },
 "nbformat": 4,
 "nbformat_minor": 5
}
