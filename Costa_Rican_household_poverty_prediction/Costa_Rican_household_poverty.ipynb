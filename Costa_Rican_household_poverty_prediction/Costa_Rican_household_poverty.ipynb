{
 "cells": [
  {
   "cell_type": "code",
   "execution_count": 20,
   "id": "4b2b267b-c354-49ef-b980-85d0d6667ffc",
   "metadata": {},
   "outputs": [],
   "source": [
    "import pandas as pd\n",
    "import numpy as np\n",
    "import matplotlib.pyplot as plt"
   ]
  },
  {
   "cell_type": "markdown",
   "id": "b212b9e7-1881-4a1b-b307-7d53ffeb9ae4",
   "metadata": {},
   "source": [
    "## Data reading and cleaning"
   ]
  },
  {
   "cell_type": "markdown",
   "id": "2be2ae14-101b-447b-9f3d-915302838b9a",
   "metadata": {},
   "source": [
    "### Read data"
   ]
  },
  {
   "cell_type": "code",
   "execution_count": 2,
   "id": "2d91d3c1-642f-46d9-ba0c-296b7e51028a",
   "metadata": {},
   "outputs": [],
   "source": [
    "data = pd.read_csv('data/train.csv')"
   ]
  },
  {
   "cell_type": "code",
   "execution_count": 3,
   "id": "68df0e8b-3a67-4d66-b8d1-f9582f59378c",
   "metadata": {},
   "outputs": [
    {
     "data": {
      "text/html": [
       "<div>\n",
       "<style scoped>\n",
       "    .dataframe tbody tr th:only-of-type {\n",
       "        vertical-align: middle;\n",
       "    }\n",
       "\n",
       "    .dataframe tbody tr th {\n",
       "        vertical-align: top;\n",
       "    }\n",
       "\n",
       "    .dataframe thead th {\n",
       "        text-align: right;\n",
       "    }\n",
       "</style>\n",
       "<table border=\"1\" class=\"dataframe\">\n",
       "  <thead>\n",
       "    <tr style=\"text-align: right;\">\n",
       "      <th></th>\n",
       "      <th>Id</th>\n",
       "      <th>v2a1</th>\n",
       "      <th>hacdor</th>\n",
       "      <th>rooms</th>\n",
       "      <th>hacapo</th>\n",
       "      <th>v14a</th>\n",
       "      <th>refrig</th>\n",
       "      <th>v18q</th>\n",
       "      <th>v18q1</th>\n",
       "      <th>r4h1</th>\n",
       "      <th>...</th>\n",
       "      <th>SQBescolari</th>\n",
       "      <th>SQBage</th>\n",
       "      <th>SQBhogar_total</th>\n",
       "      <th>SQBedjefe</th>\n",
       "      <th>SQBhogar_nin</th>\n",
       "      <th>SQBovercrowding</th>\n",
       "      <th>SQBdependency</th>\n",
       "      <th>SQBmeaned</th>\n",
       "      <th>agesq</th>\n",
       "      <th>Target</th>\n",
       "    </tr>\n",
       "  </thead>\n",
       "  <tbody>\n",
       "    <tr>\n",
       "      <th>0</th>\n",
       "      <td>ID_279628684</td>\n",
       "      <td>190000.0</td>\n",
       "      <td>0</td>\n",
       "      <td>3</td>\n",
       "      <td>0</td>\n",
       "      <td>1</td>\n",
       "      <td>1</td>\n",
       "      <td>0</td>\n",
       "      <td>NaN</td>\n",
       "      <td>0</td>\n",
       "      <td>...</td>\n",
       "      <td>100</td>\n",
       "      <td>1849</td>\n",
       "      <td>1</td>\n",
       "      <td>100</td>\n",
       "      <td>0</td>\n",
       "      <td>1.0</td>\n",
       "      <td>0.0</td>\n",
       "      <td>100.0</td>\n",
       "      <td>1849</td>\n",
       "      <td>4</td>\n",
       "    </tr>\n",
       "  </tbody>\n",
       "</table>\n",
       "<p>1 rows × 143 columns</p>\n",
       "</div>"
      ],
      "text/plain": [
       "             Id      v2a1  hacdor  rooms  hacapo  v14a  refrig  v18q  v18q1  \\\n",
       "0  ID_279628684  190000.0       0      3       0     1       1     0    NaN   \n",
       "\n",
       "   r4h1  ...  SQBescolari  SQBage  SQBhogar_total  SQBedjefe  SQBhogar_nin  \\\n",
       "0     0  ...          100    1849               1        100             0   \n",
       "\n",
       "   SQBovercrowding  SQBdependency  SQBmeaned  agesq  Target  \n",
       "0              1.0            0.0      100.0   1849       4  \n",
       "\n",
       "[1 rows x 143 columns]"
      ]
     },
     "execution_count": 3,
     "metadata": {},
     "output_type": "execute_result"
    }
   ],
   "source": [
    "data.head(1)"
   ]
  },
  {
   "cell_type": "code",
   "execution_count": 4,
   "id": "a25c2935-9953-4cf3-8353-43c2ae84fbd1",
   "metadata": {},
   "outputs": [
    {
     "data": {
      "text/plain": [
       "(9557, 143)"
      ]
     },
     "execution_count": 4,
     "metadata": {},
     "output_type": "execute_result"
    }
   ],
   "source": [
    "data.shape"
   ]
  },
  {
   "cell_type": "markdown",
   "id": "1d32f26d-92c8-44b7-9e89-a52149460843",
   "metadata": {},
   "source": [
    "The data has 143 features with 9557 records."
   ]
  },
  {
   "cell_type": "markdown",
   "id": "070787f3-84b9-4038-966f-c7827d2a6d8d",
   "metadata": {},
   "source": [
    "### Missing data"
   ]
  },
  {
   "cell_type": "code",
   "execution_count": 5,
   "id": "a1b540ca-1b5f-4b5f-991f-331fe94c31b5",
   "metadata": {},
   "outputs": [],
   "source": [
    "missing_data = data.isna().sum()"
   ]
  },
  {
   "cell_type": "code",
   "execution_count": 6,
   "id": "f02e4b7e-e791-4d82-93a1-877a92d3e731",
   "metadata": {},
   "outputs": [
    {
     "data": {
      "text/plain": [
       "v2a1         6860\n",
       "v18q1        7342\n",
       "rez_esc      7928\n",
       "meaneduc        5\n",
       "SQBmeaned       5\n",
       "dtype: int64"
      ]
     },
     "execution_count": 6,
     "metadata": {},
     "output_type": "execute_result"
    }
   ],
   "source": [
    "missing_data[missing_data != 0]"
   ]
  },
  {
   "cell_type": "markdown",
   "id": "de3628f9-98f5-4ac4-bcc1-7c0fb1cda8b2",
   "metadata": {},
   "source": [
    "There are missing values for only 5 columns of all 143. The missing data percentag is as follows:\n",
    "- 71% for montly rent payment `v2a1`\n",
    "- 76% for the number of tablets household owns `v18q1`\n",
    "- 82% for years behind in school `rez_esc`\n",
    "- less than 1% for average years of education for adults (18+) `meaneduc`\n",
    "- less than 1% for square of the mean years of education of adults (>=18) in the household `SQBmeaned`\n",
    "\n",
    "The first tree have too much missing data to be imputed good enough, so those will be dropped. `meaneduc` and `SQBmeaned` are realeted and show pretty much same information. With only 5 missing records they can easily be imputed."
   ]
  },
  {
   "cell_type": "code",
   "execution_count": 7,
   "id": "74682704-22c5-4e4c-844b-22808d1c3e2e",
   "metadata": {},
   "outputs": [],
   "source": [
    "data['meaneduc'] = data['meaneduc'].fillna(data['meaneduc'].mean())"
   ]
  },
  {
   "cell_type": "code",
   "execution_count": 8,
   "id": "c4465771-a403-40a0-b283-9750176923d6",
   "metadata": {},
   "outputs": [],
   "source": [
    "assert data['meaneduc'].isna().any() == False"
   ]
  },
  {
   "cell_type": "code",
   "execution_count": 9,
   "id": "235271df-6d13-402f-8690-a47223814f42",
   "metadata": {},
   "outputs": [],
   "source": [
    "data = data.drop(['v2a1', 'v18q1', 'rez_esc'], axis = 1)"
   ]
  },
  {
   "cell_type": "markdown",
   "id": "9d7d4de8-615a-460c-8797-f7a06e2a9161",
   "metadata": {
    "tags": []
   },
   "source": [
    "## Feature selection"
   ]
  },
  {
   "cell_type": "markdown",
   "id": "03b4a29e-d695-437a-9fd4-8a42d12e5ef9",
   "metadata": {},
   "source": [
    "Some of the features will be deleted, because the information provided by them is covered by another feature or are id related. Those features are:\n",
    "- `Id` and `idhogar` are ID related\n",
    "- `hacapo` and `hacdor` are binary categorical related to overcrowding by room and bedrooms respectively; similar information is present in `overcrowding`\n",
    "- `r4h1`, `r4h2`, `r4h3`, `r4m1`, `r4m2`, `r4m3`, `r4t1`, `r4t2`, `r4t3` are related to the number of males, females and people younger than 12 years, older and the total; the year information is covered in the `dependency`\n",
    "- `parentesco2`, `parentesco3`, `parentesco4`, `parentesco5`, `parentesco6`, `parentesco7`, `parentesco8`, `parentesco9`, `parentesco10`, `parentesco11`, `parentesco12` are showing the family relation; those have very low correlation with he target as shown below\n",
    "- `mobilephone` is binary categorical feature, which shows if household have a mobile phone; that information is also presents in `qmobilephone`, which consists of the total number of phones, with 0 for no phone"
   ]
  },
  {
   "cell_type": "code",
   "execution_count": 10,
   "id": "41612c80-7472-4a6b-a15e-70f852d7c53d",
   "metadata": {},
   "outputs": [
    {
     "data": {
      "text/html": [
       "<div>\n",
       "<style scoped>\n",
       "    .dataframe tbody tr th:only-of-type {\n",
       "        vertical-align: middle;\n",
       "    }\n",
       "\n",
       "    .dataframe tbody tr th {\n",
       "        vertical-align: top;\n",
       "    }\n",
       "\n",
       "    .dataframe thead th {\n",
       "        text-align: right;\n",
       "    }\n",
       "</style>\n",
       "<table border=\"1\" class=\"dataframe\">\n",
       "  <thead>\n",
       "    <tr style=\"text-align: right;\">\n",
       "      <th></th>\n",
       "      <th>Target</th>\n",
       "      <th>parentesco2</th>\n",
       "      <th>parentesco3</th>\n",
       "      <th>parentesco4</th>\n",
       "      <th>parentesco5</th>\n",
       "      <th>parentesco6</th>\n",
       "      <th>parentesco7</th>\n",
       "      <th>parentesco8</th>\n",
       "      <th>parentesco9</th>\n",
       "      <th>parentesco10</th>\n",
       "      <th>parentesco11</th>\n",
       "      <th>parentesco12</th>\n",
       "    </tr>\n",
       "  </thead>\n",
       "  <tbody>\n",
       "    <tr>\n",
       "      <th>Target</th>\n",
       "      <td>1.000000</td>\n",
       "      <td>0.057042</td>\n",
       "      <td>-0.053989</td>\n",
       "      <td>-0.020887</td>\n",
       "      <td>0.016534</td>\n",
       "      <td>-0.068125</td>\n",
       "      <td>0.006216</td>\n",
       "      <td>0.008562</td>\n",
       "      <td>0.012318</td>\n",
       "      <td>0.010990</td>\n",
       "      <td>-0.019076</td>\n",
       "      <td>0.014421</td>\n",
       "    </tr>\n",
       "    <tr>\n",
       "      <th>parentesco2</th>\n",
       "      <td>0.057042</td>\n",
       "      <td>1.000000</td>\n",
       "      <td>-0.373257</td>\n",
       "      <td>-0.052646</td>\n",
       "      <td>-0.046567</td>\n",
       "      <td>-0.110291</td>\n",
       "      <td>-0.047842</td>\n",
       "      <td>-0.023327</td>\n",
       "      <td>-0.055117</td>\n",
       "      <td>-0.026652</td>\n",
       "      <td>-0.053782</td>\n",
       "      <td>-0.044454</td>\n",
       "    </tr>\n",
       "    <tr>\n",
       "      <th>parentesco3</th>\n",
       "      <td>-0.053989</td>\n",
       "      <td>-0.373257</td>\n",
       "      <td>1.000000</td>\n",
       "      <td>-0.087114</td>\n",
       "      <td>-0.077056</td>\n",
       "      <td>-0.182501</td>\n",
       "      <td>-0.079165</td>\n",
       "      <td>-0.038601</td>\n",
       "      <td>-0.091204</td>\n",
       "      <td>-0.044101</td>\n",
       "      <td>-0.088995</td>\n",
       "      <td>-0.073560</td>\n",
       "    </tr>\n",
       "    <tr>\n",
       "      <th>parentesco4</th>\n",
       "      <td>-0.020887</td>\n",
       "      <td>-0.052646</td>\n",
       "      <td>-0.087114</td>\n",
       "      <td>1.000000</td>\n",
       "      <td>-0.010868</td>\n",
       "      <td>-0.025741</td>\n",
       "      <td>-0.011166</td>\n",
       "      <td>-0.005444</td>\n",
       "      <td>-0.012864</td>\n",
       "      <td>-0.006220</td>\n",
       "      <td>-0.012552</td>\n",
       "      <td>-0.010375</td>\n",
       "    </tr>\n",
       "    <tr>\n",
       "      <th>parentesco5</th>\n",
       "      <td>0.016534</td>\n",
       "      <td>-0.046567</td>\n",
       "      <td>-0.077056</td>\n",
       "      <td>-0.010868</td>\n",
       "      <td>1.000000</td>\n",
       "      <td>-0.022769</td>\n",
       "      <td>-0.009877</td>\n",
       "      <td>-0.004816</td>\n",
       "      <td>-0.011378</td>\n",
       "      <td>-0.005502</td>\n",
       "      <td>-0.011103</td>\n",
       "      <td>-0.009177</td>\n",
       "    </tr>\n",
       "    <tr>\n",
       "      <th>parentesco6</th>\n",
       "      <td>-0.068125</td>\n",
       "      <td>-0.110291</td>\n",
       "      <td>-0.182501</td>\n",
       "      <td>-0.025741</td>\n",
       "      <td>-0.022769</td>\n",
       "      <td>1.000000</td>\n",
       "      <td>-0.023392</td>\n",
       "      <td>-0.011406</td>\n",
       "      <td>-0.026949</td>\n",
       "      <td>-0.013031</td>\n",
       "      <td>-0.026296</td>\n",
       "      <td>-0.021736</td>\n",
       "    </tr>\n",
       "    <tr>\n",
       "      <th>parentesco7</th>\n",
       "      <td>0.006216</td>\n",
       "      <td>-0.047842</td>\n",
       "      <td>-0.079165</td>\n",
       "      <td>-0.011166</td>\n",
       "      <td>-0.009877</td>\n",
       "      <td>-0.023392</td>\n",
       "      <td>1.000000</td>\n",
       "      <td>-0.004948</td>\n",
       "      <td>-0.011690</td>\n",
       "      <td>-0.005653</td>\n",
       "      <td>-0.011407</td>\n",
       "      <td>-0.009428</td>\n",
       "    </tr>\n",
       "    <tr>\n",
       "      <th>parentesco8</th>\n",
       "      <td>0.008562</td>\n",
       "      <td>-0.023327</td>\n",
       "      <td>-0.038601</td>\n",
       "      <td>-0.005444</td>\n",
       "      <td>-0.004816</td>\n",
       "      <td>-0.011406</td>\n",
       "      <td>-0.004948</td>\n",
       "      <td>1.000000</td>\n",
       "      <td>-0.005700</td>\n",
       "      <td>-0.002756</td>\n",
       "      <td>-0.005562</td>\n",
       "      <td>-0.004597</td>\n",
       "    </tr>\n",
       "    <tr>\n",
       "      <th>parentesco9</th>\n",
       "      <td>0.012318</td>\n",
       "      <td>-0.055117</td>\n",
       "      <td>-0.091204</td>\n",
       "      <td>-0.012864</td>\n",
       "      <td>-0.011378</td>\n",
       "      <td>-0.026949</td>\n",
       "      <td>-0.011690</td>\n",
       "      <td>-0.005700</td>\n",
       "      <td>1.000000</td>\n",
       "      <td>-0.006512</td>\n",
       "      <td>-0.013141</td>\n",
       "      <td>-0.010862</td>\n",
       "    </tr>\n",
       "    <tr>\n",
       "      <th>parentesco10</th>\n",
       "      <td>0.010990</td>\n",
       "      <td>-0.026652</td>\n",
       "      <td>-0.044101</td>\n",
       "      <td>-0.006220</td>\n",
       "      <td>-0.005502</td>\n",
       "      <td>-0.013031</td>\n",
       "      <td>-0.005653</td>\n",
       "      <td>-0.002756</td>\n",
       "      <td>-0.006512</td>\n",
       "      <td>1.000000</td>\n",
       "      <td>-0.006354</td>\n",
       "      <td>-0.005252</td>\n",
       "    </tr>\n",
       "    <tr>\n",
       "      <th>parentesco11</th>\n",
       "      <td>-0.019076</td>\n",
       "      <td>-0.053782</td>\n",
       "      <td>-0.088995</td>\n",
       "      <td>-0.012552</td>\n",
       "      <td>-0.011103</td>\n",
       "      <td>-0.026296</td>\n",
       "      <td>-0.011407</td>\n",
       "      <td>-0.005562</td>\n",
       "      <td>-0.013141</td>\n",
       "      <td>-0.006354</td>\n",
       "      <td>1.000000</td>\n",
       "      <td>-0.010599</td>\n",
       "    </tr>\n",
       "    <tr>\n",
       "      <th>parentesco12</th>\n",
       "      <td>0.014421</td>\n",
       "      <td>-0.044454</td>\n",
       "      <td>-0.073560</td>\n",
       "      <td>-0.010375</td>\n",
       "      <td>-0.009177</td>\n",
       "      <td>-0.021736</td>\n",
       "      <td>-0.009428</td>\n",
       "      <td>-0.004597</td>\n",
       "      <td>-0.010862</td>\n",
       "      <td>-0.005252</td>\n",
       "      <td>-0.010599</td>\n",
       "      <td>1.000000</td>\n",
       "    </tr>\n",
       "  </tbody>\n",
       "</table>\n",
       "</div>"
      ],
      "text/plain": [
       "                Target  parentesco2  parentesco3  parentesco4  parentesco5  \\\n",
       "Target        1.000000     0.057042    -0.053989    -0.020887     0.016534   \n",
       "parentesco2   0.057042     1.000000    -0.373257    -0.052646    -0.046567   \n",
       "parentesco3  -0.053989    -0.373257     1.000000    -0.087114    -0.077056   \n",
       "parentesco4  -0.020887    -0.052646    -0.087114     1.000000    -0.010868   \n",
       "parentesco5   0.016534    -0.046567    -0.077056    -0.010868     1.000000   \n",
       "parentesco6  -0.068125    -0.110291    -0.182501    -0.025741    -0.022769   \n",
       "parentesco7   0.006216    -0.047842    -0.079165    -0.011166    -0.009877   \n",
       "parentesco8   0.008562    -0.023327    -0.038601    -0.005444    -0.004816   \n",
       "parentesco9   0.012318    -0.055117    -0.091204    -0.012864    -0.011378   \n",
       "parentesco10  0.010990    -0.026652    -0.044101    -0.006220    -0.005502   \n",
       "parentesco11 -0.019076    -0.053782    -0.088995    -0.012552    -0.011103   \n",
       "parentesco12  0.014421    -0.044454    -0.073560    -0.010375    -0.009177   \n",
       "\n",
       "              parentesco6  parentesco7  parentesco8  parentesco9  \\\n",
       "Target          -0.068125     0.006216     0.008562     0.012318   \n",
       "parentesco2     -0.110291    -0.047842    -0.023327    -0.055117   \n",
       "parentesco3     -0.182501    -0.079165    -0.038601    -0.091204   \n",
       "parentesco4     -0.025741    -0.011166    -0.005444    -0.012864   \n",
       "parentesco5     -0.022769    -0.009877    -0.004816    -0.011378   \n",
       "parentesco6      1.000000    -0.023392    -0.011406    -0.026949   \n",
       "parentesco7     -0.023392     1.000000    -0.004948    -0.011690   \n",
       "parentesco8     -0.011406    -0.004948     1.000000    -0.005700   \n",
       "parentesco9     -0.026949    -0.011690    -0.005700     1.000000   \n",
       "parentesco10    -0.013031    -0.005653    -0.002756    -0.006512   \n",
       "parentesco11    -0.026296    -0.011407    -0.005562    -0.013141   \n",
       "parentesco12    -0.021736    -0.009428    -0.004597    -0.010862   \n",
       "\n",
       "              parentesco10  parentesco11  parentesco12  \n",
       "Target            0.010990     -0.019076      0.014421  \n",
       "parentesco2      -0.026652     -0.053782     -0.044454  \n",
       "parentesco3      -0.044101     -0.088995     -0.073560  \n",
       "parentesco4      -0.006220     -0.012552     -0.010375  \n",
       "parentesco5      -0.005502     -0.011103     -0.009177  \n",
       "parentesco6      -0.013031     -0.026296     -0.021736  \n",
       "parentesco7      -0.005653     -0.011407     -0.009428  \n",
       "parentesco8      -0.002756     -0.005562     -0.004597  \n",
       "parentesco9      -0.006512     -0.013141     -0.010862  \n",
       "parentesco10      1.000000     -0.006354     -0.005252  \n",
       "parentesco11     -0.006354      1.000000     -0.010599  \n",
       "parentesco12     -0.005252     -0.010599      1.000000  "
      ]
     },
     "execution_count": 10,
     "metadata": {},
     "output_type": "execute_result"
    }
   ],
   "source": [
    "data[['Target', 'parentesco2', 'parentesco3', 'parentesco4', 'parentesco5', 'parentesco6', 'parentesco7',\n",
    "      'parentesco8', 'parentesco9', 'parentesco10', 'parentesco11', 'parentesco12']].corr()"
   ]
  },
  {
   "cell_type": "code",
   "execution_count": 11,
   "id": "e1ec3dcd-7e71-4eaf-8a57-4c99f661a860",
   "metadata": {},
   "outputs": [],
   "source": [
    "data['edjefe'] = data['edjefe'].replace({'no': 0, 'yes': 1}).astype(float)\n",
    "data['edjefa'] = data['edjefa'].replace({'no': 0, 'yes': 1}).astype(float)\n",
    "data['dependency'] = data['dependency'].replace({'no': 0, 'yes': 1}).astype(float)"
   ]
  },
  {
   "cell_type": "code",
   "execution_count": 12,
   "id": "7baf2cb2-8818-4bf0-8eb3-6b0ce078bc72",
   "metadata": {},
   "outputs": [],
   "source": [
    "data = data.drop(['Id', 'idhogar', 'hacapo', 'hacdor', 'r4h1', 'r4h2', 'r4h3', 'r4m1', 'r4m2', 'r4m3', 'r4t1', 'r4t2', 'r4t3', 'tamhog', \n",
    "                  'hhsize', 'male', 'female', 'parentesco2', 'parentesco3', 'parentesco4', 'parentesco5', 'parentesco6', 'parentesco7',\n",
    "                  'parentesco8', 'parentesco9', 'parentesco10', 'parentesco11', 'parentesco12', 'hogar_nin', 'hogar_adul', 'hogar_mayor',\n",
    "                  'hogar_total', 'mobilephone', 'SQBescolari', 'SQBage', 'SQBhogar_total', 'SQBedjefe', 'SQBhogar_nin', 'SQBovercrowding',\n",
    "                  'SQBdependency', 'SQBmeaned', 'agesq'], axis = 1)"
   ]
  },
  {
   "cell_type": "code",
   "execution_count": 13,
   "id": "052def8f-87b0-47c7-822b-26fd70ddb045",
   "metadata": {},
   "outputs": [
    {
     "data": {
      "text/plain": [
       "(9557, 98)"
      ]
     },
     "execution_count": 13,
     "metadata": {},
     "output_type": "execute_result"
    }
   ],
   "source": [
    "data.shape"
   ]
  },
  {
   "cell_type": "markdown",
   "id": "590f40be-59e3-469b-97a1-2699789a5100",
   "metadata": {},
   "source": [
    "## Exploratory data analysis"
   ]
  },
  {
   "cell_type": "markdown",
   "id": "d9527db2-86e3-4740-9ba5-307ae0b59bca",
   "metadata": {},
   "source": [
    "### Correlations"
   ]
  },
  {
   "cell_type": "markdown",
   "id": "3c6779e1-b045-4406-8858-b173eb7c8173",
   "metadata": {},
   "source": [
    "After dropping some columns 101 features are left. From those only 16 features have weak correlation (between 0.2 and 0.35). \n",
    "Positive correlation is present in 12 features:\n",
    "- `rooms`- rooms\n",
    "- `v18q` - owns a tablet \n",
    "- `escolari` - years of schooling\n",
    "- `paredblolad` - if predominant material on the outside wall is block or brick\n",
    "- `cielorazo` - if the house has ceiling\n",
    "- `epared3` - if walls are good\n",
    "- `etecho3` - if roof is good\n",
    "- `eviv3` - if floor is good\n",
    "- `edjefe` -  years of education of male head of household, based on the interaction of `escolari`(years of education), head of household and gender\n",
    "- `meaneduc` - average years of education for adults (18+)\n",
    "- `instlevel8` - undergraduate and higher education\n",
    "\n",
    "Negative correlation is present in 4 features:\n",
    "- `pisocemento` - if predominant material on the floor is cement\n",
    "- `epared1` - if walls are bad\n",
    "- `eviv1` - if floor is bad\n",
    "- `overcrowding` - # people per room"
   ]
  },
  {
   "cell_type": "code",
   "execution_count": 14,
   "id": "706a42b0-3e5a-4a60-a5c3-2b560eda3d47",
   "metadata": {},
   "outputs": [],
   "source": [
    "corrs = data.corr(numeric_only = True)"
   ]
  },
  {
   "cell_type": "code",
   "execution_count": 18,
   "id": "958391e8-d117-45b9-8c3a-e6c4a35a6c39",
   "metadata": {},
   "outputs": [
    {
     "data": {
      "text/plain": [
       "rooms          0.226208\n",
       "v18q           0.238864\n",
       "escolari       0.302305\n",
       "paredblolad    0.261274\n",
       "pisomoscer     0.280284\n",
       "cielorazo      0.304421\n",
       "epared3        0.292451\n",
       "etecho3        0.257378\n",
       "eviv3          0.294222\n",
       "edjefe         0.243215\n",
       "meaneduc       0.335161\n",
       "instlevel8     0.214351\n",
       "Target         1.000000\n",
       "Name: Target, dtype: float64"
      ]
     },
     "execution_count": 18,
     "metadata": {},
     "output_type": "execute_result"
    }
   ],
   "source": [
    "corrs['Target'][corrs['Target'] > 0.2]"
   ]
  },
  {
   "cell_type": "code",
   "execution_count": 19,
   "id": "6f4a5d7c-6974-4af0-921f-4d9b297f959c",
   "metadata": {},
   "outputs": [
    {
     "data": {
      "text/plain": [
       "pisocemento    -0.205439\n",
       "epared1        -0.203025\n",
       "eviv1          -0.208038\n",
       "overcrowding   -0.289110\n",
       "Name: Target, dtype: float64"
      ]
     },
     "execution_count": 19,
     "metadata": {},
     "output_type": "execute_result"
    }
   ],
   "source": [
    "corrs['Target'][corrs['Target'] < -0.2]"
   ]
  }
 ],
 "metadata": {
  "kernelspec": {
   "display_name": "Python 3 (ipykernel)",
   "language": "python",
   "name": "python3"
  },
  "language_info": {
   "codemirror_mode": {
    "name": "ipython",
    "version": 3
   },
   "file_extension": ".py",
   "mimetype": "text/x-python",
   "name": "python",
   "nbconvert_exporter": "python",
   "pygments_lexer": "ipython3",
   "version": "3.9.15"
  }
 },
 "nbformat": 4,
 "nbformat_minor": 5
}
