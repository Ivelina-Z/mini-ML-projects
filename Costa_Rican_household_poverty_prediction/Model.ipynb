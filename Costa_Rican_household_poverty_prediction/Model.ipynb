{
 "cells": [
  {
   "cell_type": "code",
   "execution_count": 6,
   "metadata": {},
   "outputs": [
    {
     "name": "stderr",
     "output_type": "stream",
     "text": [
      "/home/ivelina/anaconda3/envs/DL/lib/python3.9/site-packages/xgboost/compat.py:36: FutureWarning: pandas.Int64Index is deprecated and will be removed from pandas in a future version. Use pandas.Index with the appropriate dtype instead.\n",
      "  from pandas import MultiIndex, Int64Index\n"
     ]
    }
   ],
   "source": [
    "import numpy as np\n",
    "import pandas as pd\n",
    "\n",
    "from sklearn.preprocessing import MinMaxScaler, LabelEncoder\n",
    "from sklearn.feature_selection import mutual_info_classif\n",
    "from sklearn.model_selection import train_test_split\n",
    "from sklearn.metrics import classification_report\n",
    "import xgboost as xgb"
   ]
  },
  {
   "cell_type": "code",
   "execution_count": 7,
   "metadata": {},
   "outputs": [],
   "source": [
    "def one_hot_to_label_encoding(data, columns, new_column_name = 'new_col', drop_columns = False):\n",
    "    data[new_column_name] = sum([(idx + 1) * data[col_name] for idx, col_name in enumerate(columns)])\n",
    "    if drop_columns:\n",
    "        data = data.drop(columns, axis=1)\n",
    "    return data"
   ]
  },
  {
   "cell_type": "code",
   "execution_count": 8,
   "metadata": {},
   "outputs": [],
   "source": [
    "def filter_by_name_start(data, name_start):\n",
    "    filtered_columns = data.columns[data.columns.str.startswith(name_start)]\n",
    "    return filtered_columns"
   ]
  },
  {
   "attachments": {},
   "cell_type": "markdown",
   "metadata": {},
   "source": [
    "## 1. Data preprocessing\n",
    "### Read data"
   ]
  },
  {
   "cell_type": "code",
   "execution_count": 9,
   "metadata": {},
   "outputs": [],
   "source": [
    "data = pd.read_csv('data/train.csv')"
   ]
  },
  {
   "attachments": {},
   "cell_type": "markdown",
   "metadata": {},
   "source": [
    "### Fill missing data"
   ]
  },
  {
   "cell_type": "code",
   "execution_count": 10,
   "metadata": {},
   "outputs": [],
   "source": [
    "data['meaneduc'] = data['meaneduc'].fillna(data['meaneduc'].mean())"
   ]
  },
  {
   "cell_type": "code",
   "execution_count": 11,
   "metadata": {},
   "outputs": [],
   "source": [
    "assert data['meaneduc'].isna().any() == False"
   ]
  },
  {
   "cell_type": "code",
   "execution_count": 12,
   "metadata": {},
   "outputs": [],
   "source": [
    "data = data.drop(['v2a1', 'v18q1', 'rez_esc'], axis = 1)"
   ]
  },
  {
   "attachments": {},
   "cell_type": "markdown",
   "metadata": {},
   "source": [
    "### Feature engineering"
   ]
  },
  {
   "cell_type": "code",
   "execution_count": 13,
   "metadata": {},
   "outputs": [],
   "source": [
    "data['edjefe'] = data['edjefe'].replace({'no': 0, 'yes': 1}).astype(float)\n",
    "data['edjefa'] = data['edjefa'].replace({'no': 0, 'yes': 1}).astype(float)\n",
    "data['dependency'] = data['dependency'].replace({'no': 0, 'yes': 1}).astype(float)"
   ]
  },
  {
   "cell_type": "code",
   "execution_count": 14,
   "metadata": {},
   "outputs": [],
   "source": [
    "data['mobilephone_per_person'] = np.where(data['qmobilephone'] > 0, data['qmobilephone'] / data['r4t2'], 0)\n",
    "data['people_per_room'] = data['rooms'] / data['tamviv']\n",
    "data['people_per_bedroom'] = data['bedrooms'] / data['tamviv']\n",
    "data['paying_rent'] = np.where(\n",
    "    (data['tipovivi2'] == 1) | (data['tipovivi3'] == 1) | (data['tipovivi4'] == 1),\n",
    "    1, 0)"
   ]
  },
  {
   "cell_type": "code",
   "execution_count": 15,
   "metadata": {},
   "outputs": [],
   "source": [
    "data = data.set_index('Id')"
   ]
  },
  {
   "cell_type": "code",
   "execution_count": 16,
   "metadata": {},
   "outputs": [],
   "source": [
    "data = data.drop(['idhogar', 'rooms', 'bedrooms', 'qmobilephone', 'mobilephone', 'tipovivi1', 'tipovivi2', 'tipovivi3', 'tipovivi4', 'tipovivi5',\n",
    "                 'SQBescolari', 'SQBage', 'SQBhogar_total', 'SQBedjefe', 'SQBhogar_nin', 'SQBovercrowding', 'SQBdependency', 'SQBmeaned',\n",
    "                 'agesq'], axis = 1)"
   ]
  },
  {
   "attachments": {},
   "cell_type": "markdown",
   "metadata": {},
   "source": [
    "### Label encoder\n",
    "#### Categorical attributes"
   ]
  },
  {
   "cell_type": "code",
   "execution_count": 17,
   "metadata": {},
   "outputs": [],
   "source": [
    "outside_material_cols = filter_by_name_start(data, 'pared')\n",
    "floor_material_cols = filter_by_name_start(data, 'piso')\n",
    "roof_material_cols = filter_by_name_start(data, 'techo')\n",
    "water_provision_cols = filter_by_name_start(data, 'abastagua')\n",
    "electricity_cols = data[['public', 'planpri', 'noelec', 'coopele']]\n",
    "waste_water_connection_cols = filter_by_name_start(data, 'sanitario')\n",
    "energy_source_for_cooking_cols = filter_by_name_start(data, 'energcocinar')\n",
    "rubbish_disposal_cols = filter_by_name_start(data, 'elimbasu')\n",
    "marital_status_cols = filter_by_name_start(data, 'estadocivil')\n",
    "family_relation_cols = filter_by_name_start(data, 'parentesco')\n",
    "level_of_education_cols = filter_by_name_start(data, 'instlevel')\n",
    "region_cols = filter_by_name_start(data, 'lugar')\n",
    "walls_condition_cols = filter_by_name_start(data, 'epared')\n",
    "roof_condition_cols = filter_by_name_start(data, 'etecho')\n",
    "floor_condition_cols = filter_by_name_start(data, 'eviv')"
   ]
  },
  {
   "cell_type": "code",
   "execution_count": 18,
   "metadata": {},
   "outputs": [],
   "source": [
    "data = one_hot_to_label_encoding(data, outside_material_cols, new_column_name = 'outside_material', drop_columns = True)\n",
    "data = one_hot_to_label_encoding(data, floor_material_cols, new_column_name = 'floor_material', drop_columns = True)\n",
    "data = one_hot_to_label_encoding(data, roof_material_cols, new_column_name = 'roof_material', drop_columns = True)\n",
    "data = one_hot_to_label_encoding(data, water_provision_cols, new_column_name = 'water_provisio', drop_columns = True)\n",
    "data = one_hot_to_label_encoding(data, electricity_cols, new_column_name = 'electricity', drop_columns = True)\n",
    "data = one_hot_to_label_encoding(data, waste_water_connection_cols, new_column_name = 'waste_water_connection', drop_columns = True)\n",
    "data = one_hot_to_label_encoding(data, energy_source_for_cooking_cols, new_column_name = 'energy_for_cooking', drop_columns = True)\n",
    "data = one_hot_to_label_encoding(data, rubbish_disposal_cols, new_column_name = 'rubbish_disposal', drop_columns = True)\n",
    "data = one_hot_to_label_encoding(data, marital_status_cols, new_column_name = 'marital_status', drop_columns = True)\n",
    "data = one_hot_to_label_encoding(data, family_relation_cols, new_column_name = 'family_relation', drop_columns = True)\n",
    "data = one_hot_to_label_encoding(data, level_of_education_cols, new_column_name = 'level_of_education', drop_columns = True)\n",
    "data = one_hot_to_label_encoding(data, region_cols, new_column_name = 'region', drop_columns = True)\n",
    "data = one_hot_to_label_encoding(data, walls_condition_cols, new_column_name = 'walls_condition', drop_columns = True)\n",
    "data = one_hot_to_label_encoding(data, roof_condition_cols, new_column_name = 'roof_condition', drop_columns = True)\n",
    "data = one_hot_to_label_encoding(data, floor_condition_cols, new_column_name = 'floor_condition', drop_columns = True)"
   ]
  },
  {
   "cell_type": "code",
   "execution_count": 19,
   "metadata": {},
   "outputs": [],
   "source": [
    "data = data.drop(['r4h1', 'r4h2', 'r4m1', 'r4m2', 'r4t1', 'r4t2', 'r4t3',\n",
    "                  'male', 'female', 'hogar_total'], axis = 1)"
   ]
  },
  {
   "cell_type": "code",
   "execution_count": 20,
   "metadata": {},
   "outputs": [],
   "source": [
    "numerical_columns = ['r4h3', 'r4m3', 'tamhog', 'tamhog', 'escolari', 'hhsize', 'hogar_nin', 'hogar_adul', 'hogar_mayor', 'dependency', \n",
    "                    'edjefe', 'edjefa', 'meaneduc', 'overcrowding', 'age', 'mobilephone_per_person', 'people_per_room', 'people_per_bedroom']\n",
    "categorical_columns = data.columns[~data.columns.isin(numerical_columns)]"
   ]
  },
  {
   "cell_type": "code",
   "execution_count": 21,
   "metadata": {},
   "outputs": [],
   "source": [
    "for cat_col in categorical_columns:\n",
    "    data[cat_col] = data[cat_col].astype('category')"
   ]
  },
  {
   "attachments": {},
   "cell_type": "markdown",
   "metadata": {},
   "source": [
    "#### Target"
   ]
  },
  {
   "cell_type": "code",
   "execution_count": 22,
   "metadata": {},
   "outputs": [],
   "source": [
    "labels_original = ['extreme poverty', 'moderate poverty', 'vulnerable households', 'non vulnerable households']"
   ]
  },
  {
   "cell_type": "code",
   "execution_count": 23,
   "metadata": {},
   "outputs": [],
   "source": [
    "target = data['Target']\n",
    "attributes = data.drop(['Target'], axis = 1)"
   ]
  },
  {
   "cell_type": "code",
   "execution_count": 24,
   "metadata": {},
   "outputs": [],
   "source": [
    "label_encoder = LabelEncoder().fit(target.unique())\n",
    "target_encoded = label_encoder.transform(target)"
   ]
  },
  {
   "attachments": {},
   "cell_type": "markdown",
   "metadata": {},
   "source": [
    "### Train test split"
   ]
  },
  {
   "attachments": {},
   "cell_type": "markdown",
   "metadata": {},
   "source": [
    "The data is split 80/20 for train and test. Because of the imbalance of the classes stratification is applied."
   ]
  },
  {
   "cell_type": "code",
   "execution_count": 25,
   "metadata": {},
   "outputs": [
    {
     "data": {
      "text/plain": [
       "(array([ 151,  319,  242, 1200]), array([ 604, 1278,  967, 4796]))"
      ]
     },
     "execution_count": 25,
     "metadata": {},
     "output_type": "execute_result"
    }
   ],
   "source": [
    "train_attributes, test_attributes, train_target, test_target = train_test_split(attributes, target_encoded, train_size = 0.8, stratify = target_encoded, random_state=13)\n",
    "np.bincount(test_target), np.bincount(train_target)"
   ]
  },
  {
   "attachments": {},
   "cell_type": "markdown",
   "metadata": {},
   "source": [
    "### Scaler"
   ]
  },
  {
   "cell_type": "code",
   "execution_count": 26,
   "metadata": {},
   "outputs": [],
   "source": [
    "scaler = MinMaxScaler().fit(train_attributes)"
   ]
  },
  {
   "cell_type": "code",
   "execution_count": 27,
   "metadata": {},
   "outputs": [],
   "source": [
    "train_attributes_scaled = scaler.transform(train_attributes)\n",
    "test_attributes_scaled = scaler.transform(test_attributes)"
   ]
  },
  {
   "cell_type": "code",
   "execution_count": 28,
   "metadata": {},
   "outputs": [
    {
     "data": {
      "text/plain": [
       "(1.0000000000000002, 0.0)"
      ]
     },
     "execution_count": 28,
     "metadata": {},
     "output_type": "execute_result"
    }
   ],
   "source": [
    "(train_attributes_scaled.max(), train_attributes_scaled.min())"
   ]
  },
  {
   "attachments": {},
   "cell_type": "markdown",
   "metadata": {},
   "source": [
    "### Feature selection\n",
    "#### Mutual Information"
   ]
  },
  {
   "attachments": {},
   "cell_type": "markdown",
   "metadata": {},
   "source": [
    "After a test data is set aside, a feature selection using mutual information classification will be applied. As seen from the result below, the highest value is only 0.158925, which means that the features left have low dependencies. Because of that features won't be dropped."
   ]
  },
  {
   "cell_type": "code",
   "execution_count": 34,
   "metadata": {},
   "outputs": [],
   "source": [
    "mutual_info = mutual_info_classif(train_attributes_scaled, train_target)\n",
    "mutual_info = pd.Series(mutual_info)"
   ]
  },
  {
   "cell_type": "code",
   "execution_count": 33,
   "metadata": {},
   "outputs": [
    {
     "data": {
      "text/plain": [
       "19    0.158925\n",
       "16    0.102031\n",
       "27    0.093842\n",
       "28    0.080420\n",
       "20    0.076426\n",
       "13    0.066263\n",
       "9     0.065355\n",
       "26    0.061504\n",
       "42    0.058973\n",
       "44    0.058612\n",
       "17    0.053141\n",
       "40    0.053069\n",
       "30    0.047517\n",
       "18    0.046600\n",
       "11    0.046234\n",
       "31    0.040051\n",
       "4     0.033632\n",
       "43    0.031303\n",
       "8     0.026902\n",
       "7     0.025700\n",
       "14    0.025397\n",
       "37    0.023296\n",
       "21    0.021160\n",
       "10    0.020018\n",
       "6     0.019501\n",
       "36    0.019229\n",
       "33    0.016460\n",
       "5     0.015535\n",
       "25    0.015124\n",
       "15    0.014533\n",
       "38    0.014469\n",
       "23    0.014149\n",
       "41    0.014080\n",
       "22    0.013770\n",
       "24    0.011015\n",
       "39    0.009420\n",
       "0     0.009280\n",
       "2     0.007402\n",
       "35    0.005621\n",
       "1     0.004972\n",
       "3     0.003917\n",
       "32    0.002247\n",
       "34    0.000000\n",
       "29    0.000000\n",
       "12    0.000000\n",
       "dtype: float64"
      ]
     },
     "execution_count": 33,
     "metadata": {},
     "output_type": "execute_result"
    }
   ],
   "source": [
    "mutual_info.sort_values(ascending = False)"
   ]
  },
  {
   "cell_type": "code",
   "execution_count": null,
   "metadata": {},
   "outputs": [],
   "source": []
  }
 ],
 "metadata": {
  "kernelspec": {
   "display_name": "DL",
   "language": "python",
   "name": "python3"
  },
  "language_info": {
   "codemirror_mode": {
    "name": "ipython",
    "version": 3
   },
   "file_extension": ".py",
   "mimetype": "text/x-python",
   "name": "python",
   "nbconvert_exporter": "python",
   "pygments_lexer": "ipython3",
   "version": "3.9.15"
  },
  "orig_nbformat": 4
 },
 "nbformat": 4,
 "nbformat_minor": 2
}
